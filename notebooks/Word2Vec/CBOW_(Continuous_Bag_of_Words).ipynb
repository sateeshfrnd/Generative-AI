{
  "nbformat": 4,
  "nbformat_minor": 0,
  "metadata": {
    "colab": {
      "provenance": [],
      "authorship_tag": "ABX9TyNpmkpYoKz4pUCv5GtgrgP+",
      "include_colab_link": true
    },
    "kernelspec": {
      "name": "python3",
      "display_name": "Python 3"
    },
    "language_info": {
      "name": "python"
    }
  },
  "cells": [
    {
      "cell_type": "markdown",
      "metadata": {
        "id": "view-in-github",
        "colab_type": "text"
      },
      "source": [
        "<a href=\"https://colab.research.google.com/github/sateeshfrnd/Generative-AI/blob/main/notebooks/Word2Vec/CBOW_(Continuous_Bag_of_Words).ipynb\" target=\"_parent\"><img src=\"https://colab.research.google.com/assets/colab-badge.svg\" alt=\"Open In Colab\"/></a>"
      ]
    },
    {
      "cell_type": "markdown",
      "source": [
        "# CBOW (Continuous Bag of Words)\n",
        "\n",
        "CBOW (Continuous Bag of Words), predicts a word based on its surrounding context."
      ],
      "metadata": {
        "id": "s2875cUsvKst"
      }
    },
    {
      "cell_type": "markdown",
      "source": [
        "## import required Libraries"
      ],
      "metadata": {
        "id": "witJ0KmsvXAY"
      }
    },
    {
      "cell_type": "code",
      "execution_count": 1,
      "metadata": {
        "id": "jSDrnlNRvAgL"
      },
      "outputs": [],
      "source": [
        "from gensim.models import Word2Vec"
      ]
    },
    {
      "cell_type": "code",
      "source": [
        "# Sample corpus\n",
        "sentences = [\n",
        "    [\"she\", \"enjoys\", \"baking\", \"cookies\"],\n",
        "    [\"he\", \"loves\", \"drinking\", \"coffee\"],\n",
        "    [\"they\", \"are\", \"enjoying\", \"baking\", \"bread\", \"together\"],\n",
        "    [\"i\", \"like\", \"drinking\", \"tea\"]\n",
        "]"
      ],
      "metadata": {
        "id": "M5DXa8t6vZiW"
      },
      "execution_count": 2,
      "outputs": []
    },
    {
      "cell_type": "markdown",
      "source": [],
      "metadata": {
        "id": "cUbBSJRRvz2g"
      }
    },
    {
      "cell_type": "code",
      "source": [
        "# Train a CBOW model\n",
        "cbow_model = Word2Vec(\n",
        "    sentences,            # Tokenized sentences from the corpus\n",
        "    vector_size=50,       # Dimension of word vectors (50-dimensional space)\n",
        "    window=2,             # Context window size (2 words on each side of the target word)\n",
        "    min_count=1,          # Minimum frequency for a word to be included in the vocabulary\n",
        "    sg=0                  # CBOW model (sg=0 means CBOW; sg=1 means Skip-Gram)\n",
        ")\n"
      ],
      "metadata": {
        "id": "pMOEde_kvdLY"
      },
      "execution_count": 6,
      "outputs": []
    },
    {
      "cell_type": "code",
      "source": [
        "cbow_model.wv[\"baking\"]"
      ],
      "metadata": {
        "colab": {
          "base_uri": "https://localhost:8080/"
        },
        "id": "BndjTQeSvhog",
        "outputId": "93442fdf-5ae1-4c3d-be87-29eb615c064b"
      },
      "execution_count": 4,
      "outputs": [
        {
          "output_type": "execute_result",
          "data": {
            "text/plain": [
              "array([-0.01631914,  0.00899214, -0.00827197,  0.00165198,  0.01700068,\n",
              "       -0.00892678,  0.00903681, -0.01357065, -0.00709898,  0.01879522,\n",
              "       -0.00315654,  0.0006388 , -0.00828443, -0.01536287, -0.00301432,\n",
              "        0.00494451, -0.00177102,  0.01107087, -0.00548726,  0.0045214 ,\n",
              "        0.01091253,  0.01668911, -0.00290244, -0.01842042,  0.00874441,\n",
              "        0.00114458,  0.01488109, -0.00162445, -0.00527704, -0.01750381,\n",
              "       -0.00170972,  0.0056511 ,  0.01080317,  0.01410179, -0.01140448,\n",
              "        0.00371835,  0.01218132, -0.0095951 , -0.00620931,  0.01359934,\n",
              "        0.00326691,  0.00037636,  0.00694379,  0.00043393,  0.01923659,\n",
              "        0.01012584, -0.01783104, -0.01408443,  0.00180271,  0.01278661],\n",
              "      dtype=float32)"
            ]
          },
          "metadata": {},
          "execution_count": 4
        }
      ]
    },
    {
      "cell_type": "code",
      "source": [
        "cbow_model.wv.most_similar(\"baking\")"
      ],
      "metadata": {
        "colab": {
          "base_uri": "https://localhost:8080/"
        },
        "id": "KAV24q9zvjjC",
        "outputId": "81745f10-59bf-43fb-b692-93179415c369"
      },
      "execution_count": 5,
      "outputs": [
        {
          "output_type": "execute_result",
          "data": {
            "text/plain": [
              "[('i', 0.12489530444145203),\n",
              " ('he', 0.0806213915348053),\n",
              " ('bread', 0.07402360439300537),\n",
              " ('drinking', 0.0424087829887867),\n",
              " ('together', 0.018300451338291168),\n",
              " ('enjoys', 0.011399010196328163),\n",
              " ('tea', 0.011335345916450024),\n",
              " ('they', 0.0013816740829497576),\n",
              " ('cookies', -0.012018062174320221),\n",
              " ('she', -0.03441700339317322)]"
            ]
          },
          "metadata": {},
          "execution_count": 5
        }
      ]
    },
    {
      "cell_type": "markdown",
      "source": [
        "Observations:\n",
        "\n",
        "- Similarity with Context Words: The output shows that words like \"bread\" and \"cookies\" are indeed related to \"baking\" (even though they are not the most similar ones).\n",
        "\n",
        "- Less Expected Results: The inclusion of words like \"I,\" \"he,\" \"enjoys,\" and \"tea\" shows how the model might have learned relationships between more general words due to sentence structures like \"she enjoys baking cookies\" or \"he loves drinking tea.\""
      ],
      "metadata": {
        "id": "ieYeoNPLwwEe"
      }
    },
    {
      "cell_type": "markdown",
      "source": [
        "## Using pretatined model"
      ],
      "metadata": {
        "id": "VjjaNQHRxU6a"
      }
    },
    {
      "cell_type": "code",
      "source": [
        "import gensim.downloader as api"
      ],
      "metadata": {
        "id": "bT59HcM2vl2a"
      },
      "execution_count": 7,
      "outputs": []
    },
    {
      "cell_type": "code",
      "source": [
        "wv = api.load('word2vec-google-news-300')"
      ],
      "metadata": {
        "colab": {
          "base_uri": "https://localhost:8080/"
        },
        "id": "1MOeq-86xbRK",
        "outputId": "70b6fe12-d507-4f9c-9d41-cb7b8a01a980"
      },
      "execution_count": 8,
      "outputs": [
        {
          "output_type": "stream",
          "name": "stdout",
          "text": [
            "[==================================================] 100.0% 1662.8/1662.8MB downloaded\n"
          ]
        }
      ]
    },
    {
      "cell_type": "code",
      "source": [
        "wv.most_similar(\"baking\", topn=10)"
      ],
      "metadata": {
        "colab": {
          "base_uri": "https://localhost:8080/"
        },
        "id": "EGceMl5axiu1",
        "outputId": "e6a49f15-5c03-49d8-b14c-6c27ec268ae8"
      },
      "execution_count": 9,
      "outputs": [
        {
          "output_type": "execute_result",
          "data": {
            "text/plain": [
              "[('cooking', 0.6751806139945984),\n",
              " ('Baking', 0.6691453456878662),\n",
              " ('bake', 0.6438429951667786),\n",
              " ('bread_baking', 0.6340261101722717),\n",
              " ('baking_cakes', 0.6335681080818176),\n",
              " ('baking_pies', 0.6270673274993896),\n",
              " ('decorating_cakes', 0.626034140586853),\n",
              " ('pastry', 0.6246585845947266),\n",
              " ('cake_decorating', 0.6199908256530762),\n",
              " ('Line_baking_tray', 0.6138713359832764)]"
            ]
          },
          "metadata": {},
          "execution_count": 9
        }
      ]
    },
    {
      "cell_type": "code",
      "source": [
        "wv.similarity(\"baking\", \"cookies\")"
      ],
      "metadata": {
        "colab": {
          "base_uri": "https://localhost:8080/"
        },
        "id": "8_iYWLAe1a4J",
        "outputId": "c06b5518-658a-4748-9ea7-05efc2d9ad19"
      },
      "execution_count": 13,
      "outputs": [
        {
          "output_type": "execute_result",
          "data": {
            "text/plain": [
              "0.48642683"
            ]
          },
          "metadata": {},
          "execution_count": 13
        }
      ]
    },
    {
      "cell_type": "markdown",
      "source": [
        "Now score is improved"
      ],
      "metadata": {
        "id": "1cSJ288F1Uw1"
      }
    },
    {
      "cell_type": "code",
      "source": [
        "wv.similarity(\"baking\", \"cooking\")"
      ],
      "metadata": {
        "colab": {
          "base_uri": "https://localhost:8080/"
        },
        "id": "C_ZYXlApyhDa",
        "outputId": "4bbfc437-3c14-4157-9314-1284d76e8541"
      },
      "execution_count": 11,
      "outputs": [
        {
          "output_type": "execute_result",
          "data": {
            "text/plain": [
              "0.6751806"
            ]
          },
          "metadata": {},
          "execution_count": 11
        }
      ]
    }
  ]
}