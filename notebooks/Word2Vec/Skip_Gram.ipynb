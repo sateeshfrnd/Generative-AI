{
  "nbformat": 4,
  "nbformat_minor": 0,
  "metadata": {
    "colab": {
      "provenance": [],
      "authorship_tag": "ABX9TyPZJVuYijdHKUcabQxlBENZ",
      "include_colab_link": true
    },
    "kernelspec": {
      "name": "python3",
      "display_name": "Python 3"
    },
    "language_info": {
      "name": "python"
    }
  },
  "cells": [
    {
      "cell_type": "markdown",
      "metadata": {
        "id": "view-in-github",
        "colab_type": "text"
      },
      "source": [
        "<a href=\"https://colab.research.google.com/github/sateeshfrnd/Generative-AI/blob/main/notebooks/Word2Vec/Skip_Gram.ipynb\" target=\"_parent\"><img src=\"https://colab.research.google.com/assets/colab-badge.svg\" alt=\"Open In Colab\"/></a>"
      ]
    },
    {
      "cell_type": "markdown",
      "source": [
        "# Skip-Gram"
      ],
      "metadata": {
        "id": "Xq9LKdk6rRgS"
      }
    },
    {
      "cell_type": "markdown",
      "source": [
        "## import required Libraries"
      ],
      "metadata": {
        "id": "bEkZ0n_zrXpw"
      }
    },
    {
      "cell_type": "code",
      "execution_count": 2,
      "metadata": {
        "id": "WuXO-UHYrFwE"
      },
      "outputs": [],
      "source": [
        "from gensim.models import Word2Vec\n"
      ]
    },
    {
      "cell_type": "code",
      "source": [
        "# Define the corpus\n",
        "sentences = [\n",
        "    [\"she\", \"enjoys\", \"baking\", \"cookies\"],\n",
        "    [\"he\", \"loves\", \"drinking\", \"coffee\"],\n",
        "    [\"they\", \"are\", \"enjoying\", \"baking\", \"bread\", \"together\"],\n",
        "    [\"i\", \"like\", \"drinking\", \"tea\"]\n",
        "]"
      ],
      "metadata": {
        "id": "Az4gK4bhrQa9"
      },
      "execution_count": 3,
      "outputs": []
    },
    {
      "cell_type": "code",
      "source": [
        "# Train Skip-Gram model (sg=1 for Skip-Gram)\n",
        "skip_gram_model = Word2Vec(sentences, vector_size=50, window=2, min_count=1, sg=1)"
      ],
      "metadata": {
        "id": "FpmHT54rrgZQ"
      },
      "execution_count": 4,
      "outputs": []
    },
    {
      "cell_type": "code",
      "source": [
        "skip_gram_model.wv[\"baking\"]"
      ],
      "metadata": {
        "colab": {
          "base_uri": "https://localhost:8080/"
        },
        "id": "by5sECuQrl-i",
        "outputId": "52b4bdbf-e166-4b39-b02a-15bbd7571a67"
      },
      "execution_count": 5,
      "outputs": [
        {
          "output_type": "execute_result",
          "data": {
            "text/plain": [
              "array([-0.01631718,  0.00899317, -0.00827343,  0.00164891,  0.01699807,\n",
              "       -0.00892597,  0.00903383, -0.01357495, -0.00709714,  0.01879599,\n",
              "       -0.00315432,  0.00064175, -0.0082812 , -0.01536477, -0.00301635,\n",
              "        0.00493932, -0.00177614,  0.01106888, -0.00548714,  0.00451989,\n",
              "        0.01091195,  0.01669312, -0.00290789, -0.01841763,  0.00874188,\n",
              "        0.00114466,  0.01488433, -0.00162573, -0.00527712, -0.01750612,\n",
              "       -0.00171212,  0.00565235,  0.01080278,  0.01410581, -0.01140676,\n",
              "        0.00371772,  0.01217877, -0.00959477, -0.00621502,  0.01359621,\n",
              "        0.00326351,  0.00037935,  0.00694688,  0.00043619,  0.01923816,\n",
              "        0.01012104, -0.01783513, -0.01408298,  0.00180393,  0.01278517],\n",
              "      dtype=float32)"
            ]
          },
          "metadata": {},
          "execution_count": 5
        }
      ]
    },
    {
      "cell_type": "code",
      "source": [
        "skip_gram_model.wv.most_similar(\"baking\")"
      ],
      "metadata": {
        "colab": {
          "base_uri": "https://localhost:8080/"
        },
        "id": "qBkg6UCRrpZ7",
        "outputId": "ab0baf8b-d341-4366-cceb-a064da0cbe01"
      },
      "execution_count": 7,
      "outputs": [
        {
          "output_type": "execute_result",
          "data": {
            "text/plain": [
              "[('i', 0.12487471848726273),\n",
              " ('he', 0.080597423017025),\n",
              " ('bread', 0.0740012377500534),\n",
              " ('drinking', 0.0423797108232975),\n",
              " ('together', 0.01828855834901333),\n",
              " ('enjoys', 0.011410432867705822),\n",
              " ('tea', 0.011107245460152626),\n",
              " ('they', 0.0013962482335045934),\n",
              " ('cookies', -0.012004428543150425),\n",
              " ('she', -0.03441796451807022)]"
            ]
          },
          "metadata": {},
          "execution_count": 7
        }
      ]
    },
    {
      "cell_type": "markdown",
      "source": [
        "### Words Closer to 'baking'\n",
        "- \"i\" (0.1248): This word shows up in the training corpus and may have been placed close to \"baking\" due to the lack of strong semantic distinctions in a small dataset.\n",
        "\n",
        "- \"bread\" (0.0740): This makes more sense semantically because \"bread\" appears in the context of \"baking\" in the corpus.\n",
        "\n",
        "- \"drinking\" (0.0424): Though unrelated to \"baking\" in meaning, it is likely placed close due to overlaps in how contexts are represented in a small dataset.\n"
      ],
      "metadata": {
        "id": "nSRz1qeSuAc_"
      }
    },
    {
      "cell_type": "markdown",
      "source": [
        "### Words Far From 'baking'\n",
        "\n",
        "- \"cookies\" (-0.0120): While intuitively related to \"baking,\" the model might not have seen enough examples or diversity in the corpus to establish a strong connection.\n",
        "\n",
        "- \"she\" (-0.0344): This is expected, as \"she\" is more of a general pronoun with little direct connection to \"baking.\""
      ],
      "metadata": {
        "id": "DWsIsMnguLFm"
      }
    },
    {
      "cell_type": "markdown",
      "source": [
        "## Visualize Word Vectors Using PCA"
      ],
      "metadata": {
        "id": "RRwQo16TtPde"
      }
    },
    {
      "cell_type": "code",
      "source": [
        "from sklearn.decomposition import PCA\n",
        "import matplotlib.pyplot as plt"
      ],
      "metadata": {
        "id": "qX7d3ywartJs"
      },
      "execution_count": 8,
      "outputs": []
    },
    {
      "cell_type": "code",
      "source": [
        "# Extract word vectors and corresponding words\n",
        "word_vectors = []\n",
        "words = []\n",
        "\n",
        "for word in skip_gram_model.wv.index_to_key:  # Get all words in the vocabulary\n",
        "    word_vectors.append(skip_gram_model.wv[word])  # Get the vector for each word\n",
        "    words.append(word)"
      ],
      "metadata": {
        "id": "Wu6bNnhotTIj"
      },
      "execution_count": 9,
      "outputs": []
    },
    {
      "cell_type": "code",
      "source": [
        "str(words)"
      ],
      "metadata": {
        "colab": {
          "base_uri": "https://localhost:8080/",
          "height": 53
        },
        "id": "taEFAxzStWeD",
        "outputId": "80659916-a8d4-4d3c-b722-d32e3f38dd19"
      },
      "execution_count": 11,
      "outputs": [
        {
          "output_type": "execute_result",
          "data": {
            "text/plain": [
              "\"['drinking', 'baking', 'tea', 'like', 'i', 'together', 'bread', 'enjoying', 'are', 'they', 'coffee', 'loves', 'he', 'cookies', 'enjoys', 'she']\""
            ],
            "application/vnd.google.colaboratory.intrinsic+json": {
              "type": "string"
            }
          },
          "metadata": {},
          "execution_count": 11
        }
      ]
    },
    {
      "cell_type": "code",
      "source": [
        "word_vectors"
      ],
      "metadata": {
        "colab": {
          "base_uri": "https://localhost:8080/"
        },
        "id": "ZTHT8e9TtZ53",
        "outputId": "00d6c78a-9463-4f56-8ee7-a41477c14218"
      },
      "execution_count": 12,
      "outputs": [
        {
          "output_type": "execute_result",
          "data": {
            "text/plain": [
              "[array([-1.0724545e-03,  4.7286271e-04,  1.0206699e-02,  1.8018546e-02,\n",
              "        -1.8605899e-02, -1.4233618e-02,  1.2917745e-02,  1.7945977e-02,\n",
              "        -1.0030856e-02, -7.5267432e-03,  1.4761009e-02, -3.0669428e-03,\n",
              "        -9.0732267e-03,  1.3108104e-02, -9.7203208e-03, -3.6320353e-03,\n",
              "         5.7531595e-03,  1.9837476e-03, -1.6570430e-02, -1.8897636e-02,\n",
              "         1.4623532e-02,  1.0140524e-02,  1.3515387e-02,  1.5257311e-03,\n",
              "         1.2701781e-02, -6.8107317e-03, -1.8928028e-03,  1.1537147e-02,\n",
              "        -1.5043275e-02, -7.8722071e-03, -1.5023164e-02, -1.8600845e-03,\n",
              "         1.9076237e-02, -1.4638334e-02, -4.6675373e-03, -3.8754821e-03,\n",
              "         1.6154874e-02, -1.1861792e-02,  9.0324880e-05, -9.5074680e-03,\n",
              "        -1.9207101e-02,  1.0014586e-02, -1.7519170e-02, -8.7836506e-03,\n",
              "        -7.0199967e-05, -5.9236289e-04, -1.5322480e-02,  1.9229487e-02,\n",
              "         9.9641159e-03,  1.8466286e-02], dtype=float32),\n",
              " array([-0.01631718,  0.00899317, -0.00827343,  0.00164891,  0.01699807,\n",
              "        -0.00892597,  0.00903383, -0.01357495, -0.00709714,  0.01879599,\n",
              "        -0.00315432,  0.00064175, -0.0082812 , -0.01536477, -0.00301635,\n",
              "         0.00493932, -0.00177614,  0.01106888, -0.00548714,  0.00451989,\n",
              "         0.01091195,  0.01669312, -0.00290789, -0.01841763,  0.00874188,\n",
              "         0.00114466,  0.01488433, -0.00162573, -0.00527712, -0.01750612,\n",
              "        -0.00171212,  0.00565235,  0.01080278,  0.01410581, -0.01140676,\n",
              "         0.00371772,  0.01217877, -0.00959477, -0.00621502,  0.01359621,\n",
              "         0.00326351,  0.00037935,  0.00694688,  0.00043619,  0.01923816,\n",
              "         0.01012104, -0.01783513, -0.01408298,  0.00180393,  0.01278517],\n",
              "       dtype=float32),\n",
              " array([-0.01723938,  0.00733148,  0.01037977,  0.01148388,  0.01493384,\n",
              "        -0.01233535,  0.00221123,  0.01209456, -0.0056801 , -0.01234705,\n",
              "        -0.00082045, -0.0167379 , -0.01120002,  0.01420908,  0.00670508,\n",
              "         0.01445134,  0.01360049,  0.01506148, -0.00757831, -0.00112361,\n",
              "         0.00469675, -0.00903806,  0.01677746, -0.01971633,  0.01352928,\n",
              "         0.00582883, -0.00986566,  0.00879638, -0.00347915,  0.01342277,\n",
              "         0.0199297 , -0.00872489, -0.00119868, -0.01139127,  0.00770164,\n",
              "         0.00557325,  0.01378215,  0.01220219,  0.01907699,  0.01854683,\n",
              "         0.01579614, -0.01397901, -0.01831173, -0.00071151, -0.00619968,\n",
              "         0.01578863,  0.01187715, -0.00309133,  0.00302193,  0.00358008],\n",
              "       dtype=float32),\n",
              " array([ 1.56350173e-02, -1.90215223e-02, -4.10111621e-04,  6.94016367e-03,\n",
              "        -1.87670183e-03,  1.67639963e-02,  1.80235300e-02,  1.30754383e-02,\n",
              "        -1.42392248e-03,  1.54211288e-02, -1.70704070e-02,  6.41323952e-03,\n",
              "        -9.27796494e-03, -1.01775434e-02,  7.18057435e-03,  1.07431021e-02,\n",
              "         1.55418376e-02, -1.15326960e-02,  1.48674436e-02,  1.32521736e-02,\n",
              "        -7.41987349e-03, -1.74938459e-02,  1.08775925e-02,  1.30188959e-02,\n",
              "        -1.57396239e-03, -1.34204607e-02, -1.41741699e-02, -4.99376655e-03,\n",
              "         1.02871750e-02, -7.32990634e-03, -1.87400393e-02,  7.65339099e-03,\n",
              "         9.76979360e-03, -1.28594637e-02,  2.41808617e-03, -4.14962554e-03,\n",
              "         5.01266986e-05, -1.97677761e-02,  5.38635300e-03, -9.49936640e-03,\n",
              "         2.17701192e-03, -3.15408967e-03,  4.39202553e-03, -1.57647524e-02,\n",
              "        -5.43548772e-03,  5.32842195e-03,  1.06955366e-02, -4.78378963e-03,\n",
              "        -1.90217495e-02,  9.01297573e-03], dtype=float32),\n",
              " array([ 0.00018913,  0.00615464, -0.01362529, -0.00275093,  0.01533716,\n",
              "         0.01469282, -0.00734659,  0.0052854 , -0.01663426,  0.01241097,\n",
              "        -0.00927464, -0.00632821,  0.01862271,  0.00174677,  0.01498141,\n",
              "        -0.01214813,  0.01032101,  0.01984565, -0.01691478, -0.01027138,\n",
              "        -0.01412967, -0.0097253 , -0.00755713, -0.0170724 ,  0.01591121,\n",
              "        -0.00968788,  0.01684723,  0.01052514, -0.01310005,  0.00791574,\n",
              "         0.0109403 , -0.01485307, -0.01481144, -0.00495046, -0.01725145,\n",
              "        -0.00316314, -0.00080687,  0.00659937,  0.00288376, -0.00176284,\n",
              "        -0.01118812,  0.00346073, -0.00179474,  0.01358738,  0.00794718,\n",
              "         0.00905894,  0.00286861, -0.00539971, -0.00873363, -0.00206415],\n",
              "       dtype=float32),\n",
              " array([ 2.87417974e-03, -5.29228523e-03, -1.41475135e-02, -1.56108998e-02,\n",
              "        -1.82438828e-02, -1.18710035e-02, -3.69480229e-03, -8.64786748e-03,\n",
              "        -1.29220802e-02, -7.43498281e-03,  8.57836008e-03, -7.47885369e-03,\n",
              "         1.67565141e-02,  3.06813885e-03, -1.44849820e-02,  1.88689176e-02,\n",
              "         1.52640883e-02,  1.09874755e-02, -1.36982240e-02,  1.16464663e-02,\n",
              "         8.01826548e-03,  1.03707928e-02,  8.51267017e-03,  3.87950963e-03,\n",
              "        -6.34009717e-03,  1.67083964e-02,  1.92244761e-02,  7.58590922e-03,\n",
              "        -5.67377312e-03,  1.39378417e-05,  2.43744091e-03, -1.69175658e-02,\n",
              "        -1.64481159e-02, -4.62673779e-04,  2.47458578e-03, -1.14874421e-02,\n",
              "        -9.45016649e-03, -1.46928644e-02,  1.66580658e-02,  2.42726397e-04,\n",
              "        -9.01854876e-03,  1.14032328e-02,  1.83606111e-02, -8.20061751e-03,\n",
              "         1.59298833e-02,  1.07515454e-02,  1.17593762e-02,  1.02512445e-03,\n",
              "         1.64264236e-02, -1.40381008e-02], dtype=float32),\n",
              " array([-0.01648536,  0.01859871, -0.00039532, -0.00393455,  0.00920726,\n",
              "        -0.00819063,  0.00548623,  0.01387993,  0.01213085, -0.01502159,\n",
              "         0.0187647 ,  0.00934362,  0.00793224, -0.01248701,  0.01691996,\n",
              "        -0.00430033,  0.01765038, -0.01072401, -0.01625884,  0.01364912,\n",
              "         0.00334239, -0.00439702,  0.0190272 ,  0.01898771, -0.01954809,\n",
              "         0.00501046,  0.01231338,  0.00774491,  0.00404557,  0.000861  ,\n",
              "         0.00134726, -0.00764127, -0.0142805 , -0.00417774,  0.0078478 ,\n",
              "         0.01763737,  0.0185183 , -0.01195187, -0.01880534,  0.01952875,\n",
              "         0.00685957,  0.01033223,  0.01256469, -0.00560853,  0.01464541,\n",
              "         0.00566054,  0.00574201, -0.00476074, -0.0062565 , -0.00474028],\n",
              "       dtype=float32),\n",
              " array([ 0.00855287,  0.00015212, -0.01916856, -0.01933109, -0.01229639,\n",
              "        -0.00025714,  0.00399483,  0.01886394,  0.0111687 , -0.00858139,\n",
              "         0.00055663,  0.00992872,  0.01539662, -0.00228845,  0.00864684,\n",
              "        -0.01162876, -0.00160838,  0.0162001 , -0.00472013, -0.01932691,\n",
              "         0.01155852, -0.00785964, -0.00244575,  0.01996103, -0.0045127 ,\n",
              "        -0.00951413, -0.01065877,  0.01396178, -0.01141774,  0.00422733,\n",
              "        -0.01051132,  0.01224143,  0.00871461,  0.00521271, -0.00298217,\n",
              "        -0.00549213,  0.01798587,  0.01043155, -0.00432504, -0.01894062,\n",
              "        -0.0148521 , -0.00212748, -0.00158989, -0.00512582,  0.01936544,\n",
              "        -0.00091704,  0.01174752, -0.01489517, -0.00501215, -0.01109973],\n",
              "       dtype=float32),\n",
              " array([-0.01427803,  0.00248206, -0.01435343, -0.00448924,  0.00743861,\n",
              "         0.01166625,  0.00239637,  0.00420546, -0.00822078,  0.01445067,\n",
              "        -0.01261408,  0.00929443, -0.01643995,  0.00407294, -0.0099541 ,\n",
              "        -0.00849538, -0.00621797,  0.01131042,  0.0115968 , -0.0099493 ,\n",
              "         0.00154666, -0.01699156,  0.01561961,  0.01851458, -0.00548466,\n",
              "         0.00160045,  0.0014933 ,  0.01095577, -0.01721216,  0.00116891,\n",
              "         0.01373884,  0.00446319,  0.00224935, -0.01864431,  0.01696473,\n",
              "        -0.01252825, -0.00598475,  0.00698757, -0.00154526,  0.00282258,\n",
              "         0.00356398, -0.0136578 , -0.01944962,  0.01808117,  0.01239611,\n",
              "        -0.01382586,  0.00680696,  0.00041213,  0.00950749, -0.01423989],\n",
              "       dtype=float32),\n",
              " array([ 0.00805348,  0.00869508,  0.0199148 , -0.00894755, -0.00277842,\n",
              "        -0.01463532, -0.01939577, -0.0181606 , -0.00204593, -0.013007  ,\n",
              "         0.00969966, -0.01232867,  0.00503841,  0.00147921, -0.00678448,\n",
              "        -0.00195776,  0.01995893,  0.01829252, -0.0089242 ,  0.01816635,\n",
              "        -0.01128326,  0.01186202, -0.00619396,  0.00686302,  0.00603475,\n",
              "         0.01380148, -0.00474757,  0.01755052,  0.01517871, -0.01909518,\n",
              "        -0.01601598, -0.01527638,  0.00584627, -0.00558965, -0.01385897,\n",
              "        -0.01625668,  0.01661868,  0.003981  , -0.01865543, -0.00958495,\n",
              "         0.00627374, -0.00942658,  0.01056169, -0.00846707,  0.00528389,\n",
              "        -0.01609085,  0.01242022,  0.00963771,  0.00157481,  0.00602682],\n",
              "       dtype=float32),\n",
              " array([-1.7454965e-02,  4.2603230e-03, -1.7470884e-03, -1.8638177e-02,\n",
              "        -1.8856285e-02, -2.8214359e-03,  8.8648172e-03,  7.4081421e-03,\n",
              "        -1.2997386e-02, -1.3746135e-02, -9.9988244e-03, -4.5736884e-03,\n",
              "        -1.4500575e-02, -1.9206636e-02, -5.4872585e-03, -1.6725682e-02,\n",
              "        -1.2077752e-02, -1.1341858e-02, -4.6882750e-03, -3.4139943e-03,\n",
              "        -1.7913997e-02, -1.4703989e-03,  1.6305013e-02,  1.5380859e-02,\n",
              "        -1.4412232e-02, -7.3336624e-03,  6.2371041e-03, -1.9141445e-02,\n",
              "         2.9528784e-03,  1.3048933e-02,  1.1492839e-02, -1.7526124e-02,\n",
              "        -9.0342881e-03, -1.6280321e-02,  9.1912749e-05,  1.8527268e-02,\n",
              "         1.1946611e-02,  1.0134616e-02,  1.0122125e-02, -6.4858343e-03,\n",
              "         1.9104367e-02, -1.4712849e-02, -1.4540775e-02, -4.5307782e-03,\n",
              "        -1.5571213e-03, -6.4322068e-03, -1.1851717e-03,  1.4977646e-02,\n",
              "        -1.3950372e-03, -3.2498813e-03], dtype=float32),\n",
              " array([ 0.0054888 , -0.0167182 ,  0.01571161,  0.01707221, -0.01916817,\n",
              "         0.00489253,  0.01980994, -0.01533161, -0.01393384, -0.01547303,\n",
              "         0.01679185, -0.00136267,  0.01828882, -0.01631644,  0.00748617,\n",
              "         0.00527009,  0.00148543,  0.00465535, -0.01493819, -0.01871675,\n",
              "         0.00470915,  0.01229691,  0.01597138,  0.01147179, -0.00155467,\n",
              "         0.01661233, -0.01867263,  0.00681227,  0.00053351,  0.00771449,\n",
              "         0.01477157, -0.01345033,  0.01116896, -0.01904445, -0.00160892,\n",
              "        -0.01737747, -0.01019735,  0.01857845, -0.00371652,  0.00582885,\n",
              "         0.01814256,  0.01787627, -0.01641687, -0.00602463,  0.01977321,\n",
              "         0.01020886, -0.00317617, -0.01738404,  0.00592303, -0.0133518 ],\n",
              "       dtype=float32),\n",
              " array([ 1.62645429e-02, -8.91466811e-03, -2.13671452e-03,  2.01272964e-03,\n",
              "        -3.82227910e-04,  2.29635485e-03,  1.22277215e-02, -4.05430801e-05,\n",
              "        -6.49193069e-03, -3.02145723e-03,  1.17945978e-02,  3.02820443e-03,\n",
              "        -1.44852395e-03,  1.86664946e-02, -9.84256715e-03, -1.67681929e-03,\n",
              "         1.83508229e-02,  1.34988548e-02,  3.00571206e-03, -1.77651215e-02,\n",
              "         2.29749200e-03, -4.57651122e-03,  1.87364742e-02,  2.41985568e-03,\n",
              "         2.98012723e-03,  4.81281988e-03, -3.67201329e-03, -9.99926776e-03,\n",
              "         4.64859011e-04, -4.02836083e-03,  1.32018663e-02,  1.78802460e-02,\n",
              "        -1.34950876e-03,  5.95402950e-03, -1.22153088e-02,  3.39864963e-03,\n",
              "        -1.38524650e-02, -1.73880532e-02, -1.18004056e-02, -1.79129504e-02,\n",
              "         1.45551898e-02, -1.15440628e-02,  1.65527035e-02, -1.44870905e-02,\n",
              "         6.84334990e-03,  1.93499979e-02, -1.55708957e-02, -1.98901147e-02,\n",
              "        -8.65829270e-03, -5.36626112e-03], dtype=float32),\n",
              " array([-0.00054258, -0.0176631 , -0.01723512,  0.00560042, -0.01641281,\n",
              "        -0.01813867, -0.00468093, -0.01726362, -0.0141133 , -0.0168023 ,\n",
              "        -0.00060266, -0.0091286 ,  0.01325435,  0.00305432, -0.00668295,\n",
              "         0.01221794, -0.01202657, -0.00931234, -0.01441502, -0.00867316,\n",
              "        -0.00361866,  0.01297929, -0.00554079,  0.00983793,  0.01380888,\n",
              "        -0.01492741,  0.0091297 ,  0.01225396, -0.00590895,  0.01325004,\n",
              "         0.01225176, -0.01288697, -0.0135291 ,  0.00507792, -0.00324764,\n",
              "        -0.01213026,  0.01899842, -0.01026029, -0.01310819, -0.00023977,\n",
              "        -0.00540286,  0.0008888 , -0.00707492, -0.00083866, -0.00141723,\n",
              "         0.00164564,  0.01638963, -0.01147341, -0.00331906,  0.01114322],\n",
              "       dtype=float32),\n",
              " array([ 1.63362399e-02, -8.88606533e-03,  1.79708675e-02,  1.65073294e-02,\n",
              "        -8.87044426e-03,  6.06210204e-04,  8.54898244e-03, -7.85264000e-03,\n",
              "        -1.11199310e-02, -1.30246449e-02, -1.34147645e-03, -5.91843156e-04,\n",
              "         8.92616995e-03, -4.94810799e-03, -3.45218170e-04,  4.92375158e-03,\n",
              "         9.73519776e-03, -6.16168982e-05, -1.26788188e-02, -1.85216144e-02,\n",
              "         5.33151615e-05,  1.33237885e-02,  2.93204538e-03, -1.79330446e-02,\n",
              "        -1.58772096e-02,  1.31038046e-02, -7.57136103e-03,  1.25099849e-02,\n",
              "        -1.33620640e-02,  1.69593245e-02, -1.30326487e-02,  6.57603983e-03,\n",
              "        -2.11397163e-03, -1.35750556e-02, -6.57519326e-03, -2.32282397e-03,\n",
              "        -1.09418798e-02, -2.42269505e-03, -1.51266269e-02,  5.29331900e-03,\n",
              "         1.81402974e-02, -4.75450046e-03, -1.95302011e-03,  7.02712312e-03,\n",
              "         1.73301753e-02, -1.18437055e-02, -1.37751559e-02, -5.86596970e-03,\n",
              "         1.82953924e-02,  1.73253531e-03], dtype=float32),\n",
              " array([-0.0173568 , -0.00289396,  0.01895893, -0.01509898, -0.0107162 ,\n",
              "         0.01863313, -0.01794745,  0.00765182,  0.00133088,  0.0133214 ,\n",
              "         0.01662551, -0.00570157, -0.00798463,  0.01779583,  0.00417929,\n",
              "         0.01249788, -0.01889143,  0.01918025, -0.00269662, -0.01210423,\n",
              "         0.00598507, -0.00091322,  0.00941299, -0.00456604, -0.00827568,\n",
              "         0.0045558 ,  0.01670877, -0.00999121,  0.00533736, -0.01598111,\n",
              "        -0.01354669, -0.00093534, -0.01753546,  0.00557888,  0.00319719,\n",
              "        -0.00463938,  0.01000758,  0.01949757,  0.01690854, -0.00376045,\n",
              "         0.0041163 , -0.00800738, -0.01648281,  0.01255591, -0.00389836,\n",
              "        -0.00133241, -0.00354266, -0.00907133,  0.00812342, -0.00854036],\n",
              "       dtype=float32)]"
            ]
          },
          "metadata": {},
          "execution_count": 12
        }
      ]
    },
    {
      "cell_type": "code",
      "source": [
        "# Reduce dimensionality to 2D using PCA\n",
        "pca = PCA(n_components=2)\n",
        "word_vectors_2d = pca.fit_transform(word_vectors)"
      ],
      "metadata": {
        "id": "p3s4hENktggM"
      },
      "execution_count": 13,
      "outputs": []
    },
    {
      "cell_type": "code",
      "source": [
        "# Plot the vectors\n",
        "plt.figure(figsize=(12, 8))\n",
        "for i, word in enumerate(words):\n",
        "    x, y = word_vectors_2d[i]\n",
        "    plt.scatter(x, y)\n",
        "    plt.text(x + 0.02, y + 0.02, word, fontsize=12)  # Annotate with words\n",
        "\n",
        "plt.title(\"Word Vectors Visualized Using PCA\")\n",
        "plt.xlabel(\"PCA Component 1\")\n",
        "plt.ylabel(\"PCA Component 2\")\n",
        "plt.grid(True)\n",
        "plt.show()"
      ],
      "metadata": {
        "colab": {
          "base_uri": "https://localhost:8080/",
          "height": 407
        },
        "id": "jJ2QNL5MtjN4",
        "outputId": "ef16933f-31c8-43e8-efd5-9c66ff18a235"
      },
      "execution_count": 15,
      "outputs": [
        {
          "output_type": "display_data",
          "data": {
            "text/plain": [
              "<Figure size 2000x800 with 1 Axes>"
            ],
            "image/png": "[encoded data removed]"
          },
          "metadata": {}
        }
      ]
    },
    {
      "cell_type": "markdown",
      "source": [
        "## Limitations of the Small Corpus\n",
        "\n",
        "- The corpus provided is small, and Word2Vec typically performs better with a large dataset that captures diverse word relationships. In a small dataset:\n",
        "\n",
        "- The co-occurrence patterns may not be representative enough.\n",
        "Semantic relationships (like \"baking\" → \"cookies\") may not emerge due to insufficient examples."
      ],
      "metadata": {
        "id": "t3vG2ovHurnx"
      }
    },
    {
      "cell_type": "code",
      "source": [],
      "metadata": {
        "id": "1Z6s5CcStnrz"
      },
      "execution_count": null,
      "outputs": []
    }
  ]
}