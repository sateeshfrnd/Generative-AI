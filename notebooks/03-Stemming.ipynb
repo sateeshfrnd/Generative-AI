{
 "cells": [
  {
   "cell_type": "markdown",
   "id": "2c6e5801-4a0e-4b00-8e8d-76fbcf785863",
   "metadata": {},
   "source": [
    "# Stemming\n",
    "\n",
    "- Stemming is the process of reducing a word to its word stem or root form that affixes to suffixes and prefixes or to the roots of words known as a lemma. \n",
    "- This is particularly useful in text processing tasks like search engines, where you want different forms of the same word (e.g., \"running,\" \"runner,\" and \"ran\") to be treated as equivalent, thus improving search results or data analysis.\n",
    "- Stemming is important in natural language understanding (NLU) and natural language processing (NLP)."
   ]
  },
  {
   "cell_type": "markdown",
   "id": "24c7e809-aeb9-4943-beb9-2669ef1e0362",
   "metadata": {},
   "source": [
    "## How Stemming Works:\n",
    "- It removes affixes (such as \"ing,\" \"ly,\" \"es,\" \"s,\" etc.) from words to reduce them to their base form.\n",
    "- Example: The words \"running,\" \"runs,\" and \"ran\" might all be reduced to \"run.\"\n",
    "\n",
    "However, stemming doesn't always produce real words, and the root form may not be a proper dictionary word. The main goal is consistency across word variations, not necessarily grammatical accuracy."
   ]
  },
  {
   "cell_type": "markdown",
   "id": "cdac4aad-73f9-49c5-8208-548ba324dc53",
   "metadata": {},
   "source": [
    "## PorterStemmer"
   ]
  },
  {
   "cell_type": "code",
   "execution_count": 1,
   "id": "260065d2-d9df-410d-b112-76d83605b64e",
   "metadata": {},
   "outputs": [],
   "source": [
    "from nltk.stem import PorterStemmer\n",
    "# Create a PorterStemmer object\n",
    "stemmer = PorterStemmer()"
   ]
  },
  {
   "cell_type": "code",
   "execution_count": 7,
   "id": "ab2df719-d7aa-4a22-bbcc-ee34f6efc216",
   "metadata": {},
   "outputs": [
    {
     "data": {
      "text/plain": [
       "['eating',\n",
       " 'eats',\n",
       " 'eaten',\n",
       " 'writing',\n",
       " 'writes',\n",
       " 'history',\n",
       " 'finally',\n",
       " 'finalized',\n",
       " 'running',\n",
       " 'runs',\n",
       " 'ran',\n",
       " 'easily',\n",
       " 'fairly',\n",
       " 'studies',\n",
       " 'studying',\n",
       " 'programming',\n",
       " 'programs']"
      ]
     },
     "execution_count": 7,
     "metadata": {},
     "output_type": "execute_result"
    }
   ],
   "source": [
    "# Sample words\n",
    "words=[\"eating\",\"eats\",\"eaten\",\"writing\",\"writes\",\"history\",\"finally\",\"finalized\", \"running\", \"runs\", \"ran\", \"easily\", \"fairly\", \"studies\", \"studying\", \"programming\",\"programs\"]\n",
    "words"
   ]
  },
  {
   "cell_type": "code",
   "execution_count": 8,
   "id": "7b7f5fa2-c890-45ae-851f-9fc437acd006",
   "metadata": {},
   "outputs": [
    {
     "data": {
      "text/plain": [
       "['eating :: eat',\n",
       " 'eats :: eat',\n",
       " 'eaten :: eaten',\n",
       " 'writing :: write',\n",
       " 'writes :: write',\n",
       " 'history :: histori',\n",
       " 'finally :: final',\n",
       " 'finalized :: final',\n",
       " 'running :: run',\n",
       " 'runs :: run',\n",
       " 'ran :: ran',\n",
       " 'easily :: easili',\n",
       " 'fairly :: fairli',\n",
       " 'studies :: studi',\n",
       " 'studying :: studi',\n",
       " 'programming :: program',\n",
       " 'programs :: program']"
      ]
     },
     "execution_count": 8,
     "metadata": {},
     "output_type": "execute_result"
    }
   ],
   "source": [
    "# Apply stemming to each word\n",
    "stemmed_words = [f'{word} :: {stemmer.stem(word)}' for word in words]\n",
    "stemmed_words"
   ]
  },
  {
   "cell_type": "markdown",
   "id": "c0bd8a4b-dff4-4c2c-b615-64f064d9df2c",
   "metadata": {},
   "source": [
    "- \"running,\" \"runs\" → \"run\": The stemmer reduces both words to the base form \"run.\"\n",
    "- \"easily\" → \"easili\": The stem is not always a real word but is a consistent root form.\n",
    "- \"studies\" and \"studying\" → \"studi\": Both words are reduced to the same base form."
   ]
  },
  {
   "cell_type": "code",
   "execution_count": 9,
   "id": "9ae551a8-f6e3-485f-a7f8-e1c40b175d1e",
   "metadata": {},
   "outputs": [
    {
     "data": {
      "text/plain": [
       "'sit'"
      ]
     },
     "execution_count": 9,
     "metadata": {},
     "output_type": "execute_result"
    }
   ],
   "source": [
    "stemmer.stem('sitting')"
   ]
  },
  {
   "cell_type": "code",
   "execution_count": 10,
   "id": "9e640f07-ad49-4d40-b786-efeb375054d8",
   "metadata": {},
   "outputs": [
    {
     "data": {
      "text/plain": [
       "'congratul'"
      ]
     },
     "execution_count": 10,
     "metadata": {},
     "output_type": "execute_result"
    }
   ],
   "source": [
    "stemmer.stem('congratulations')"
   ]
  },
  {
   "cell_type": "markdown",
   "id": "94e239df-284f-4c1e-80c5-59539d375a61",
   "metadata": {},
   "source": [
    "## RegexpStemmer \n",
    "The RegexpStemmer in NLTK is a customizable stemming algorithm that allows you to define a regular expression (regex) pattern to remove or replace specific word endings or prefixes. Unlike standard stemming algorithms like Porter, which follow predefined rules, RegexpStemmer gives you control over which patterns are removed."
   ]
  },
  {
   "cell_type": "code",
   "execution_count": 15,
   "id": "c790755e-1eba-4485-9f14-3c6b71906666",
   "metadata": {},
   "outputs": [],
   "source": [
    "from nltk.stem import RegexpStemmer\n",
    "# Define a regular expression to remove \"ing\" at the end of words\n",
    "regexp_stemmer = RegexpStemmer('ing$|s$|e$|able$|ed|ly$', min=4)"
   ]
  },
  {
   "cell_type": "code",
   "execution_count": 16,
   "id": "42fe9327-347c-4846-9f49-f9fe6f540e8b",
   "metadata": {},
   "outputs": [
    {
     "data": {
      "text/plain": [
       "'eat'"
      ]
     },
     "execution_count": 16,
     "metadata": {},
     "output_type": "execute_result"
    }
   ],
   "source": [
    "regexp_stemmer.stem('eating')"
   ]
  },
  {
   "cell_type": "code",
   "execution_count": 17,
   "id": "a4972b19-3c3f-4854-a1e0-7923df35982e",
   "metadata": {},
   "outputs": [
    {
     "data": {
      "text/plain": [
       "'ingeat'"
      ]
     },
     "execution_count": 17,
     "metadata": {},
     "output_type": "execute_result"
    }
   ],
   "source": [
    "regexp_stemmer.stem('ingeating')"
   ]
  },
  {
   "cell_type": "code",
   "execution_count": 18,
   "id": "01cb21b2-2593-4ee3-a70e-97713d5c0ae9",
   "metadata": {},
   "outputs": [
    {
     "data": {
      "text/plain": [
       "'walk'"
      ]
     },
     "execution_count": 18,
     "metadata": {},
     "output_type": "execute_result"
    }
   ],
   "source": [
    "regexp_stemmer.stem('walked')"
   ]
  },
  {
   "cell_type": "code",
   "execution_count": 19,
   "id": "dfa092ef-52f6-46d8-8844-a9fb99e9c316",
   "metadata": {},
   "outputs": [
    {
     "data": {
      "text/plain": [
       "'happi'"
      ]
     },
     "execution_count": 19,
     "metadata": {},
     "output_type": "execute_result"
    }
   ],
   "source": [
    "regexp_stemmer.stem('happily')"
   ]
  },
  {
   "cell_type": "markdown",
   "id": "cca4abc7-140d-42c5-9a96-5ee1c9faa905",
   "metadata": {},
   "source": [
    "## Snowball Stemmer (improved version of Porter Stemmer)\n",
    "It is a stemming algorithm which is also known as the Porter2 stemming algorithm as it is a better version of the Porter Stemmer since some issues of it were fixed in this stemmer."
   ]
  },
  {
   "cell_type": "code",
   "execution_count": 20,
   "id": "64c50724-f4db-4847-acf0-03717d6eb447",
   "metadata": {},
   "outputs": [],
   "source": [
    "from nltk.stem import SnowballStemmer\n",
    "snowball = SnowballStemmer(\"english\")"
   ]
  },
  {
   "cell_type": "code",
   "execution_count": 22,
   "id": "4f70dfdd-af04-4851-b87d-e5aa1aa16197",
   "metadata": {},
   "outputs": [
    {
     "data": {
      "text/plain": [
       "['eating :: eat',\n",
       " 'eats :: eat',\n",
       " 'eaten :: eaten',\n",
       " 'writing :: write',\n",
       " 'writes :: write',\n",
       " 'history :: histori',\n",
       " 'finally :: final',\n",
       " 'finalized :: final',\n",
       " 'running :: run',\n",
       " 'runs :: run',\n",
       " 'ran :: ran',\n",
       " 'easily :: easili',\n",
       " 'fairly :: fair',\n",
       " 'studies :: studi',\n",
       " 'studying :: studi',\n",
       " 'programming :: program',\n",
       " 'programs :: program']"
      ]
     },
     "execution_count": 22,
     "metadata": {},
     "output_type": "execute_result"
    }
   ],
   "source": [
    "[f'{word} :: {snowball.stem(word)}' for word in words]"
   ]
  },
  {
   "cell_type": "code",
   "execution_count": 23,
   "id": "cf0e2369-dfe3-4dec-bcde-2577fa8b95fd",
   "metadata": {},
   "outputs": [
    {
     "data": {
      "text/plain": [
       "('fairli', 'sportingli')"
      ]
     },
     "execution_count": 23,
     "metadata": {},
     "output_type": "execute_result"
    }
   ],
   "source": [
    "stemmer.stem(\"fairly\"),stemmer.stem(\"sportingly\")"
   ]
  },
  {
   "cell_type": "code",
   "execution_count": 24,
   "id": "71437e6b-6cd0-4fa9-9b79-6afd2fa030d6",
   "metadata": {},
   "outputs": [
    {
     "data": {
      "text/plain": [
       "('fair', 'sport')"
      ]
     },
     "execution_count": 24,
     "metadata": {},
     "output_type": "execute_result"
    }
   ],
   "source": [
    "snowball.stem(\"fairly\"),snowball.stem(\"sportingly\")"
   ]
  },
  {
   "cell_type": "markdown",
   "id": "510b6783-3470-4407-85a7-1a51a350799c",
   "metadata": {},
   "source": [
    "### Key Points:\n",
    "- Porter Stemmer: Produces shorter stems and is slightly less aggressive than Lancaster.\n",
    "- RegexpStemmer : It is useful when you need a specific rule for stemming, especially for domain-specific text processing tasks.\n",
    "- Snowball Stemmer: A more sophisticated, flexible algorithm with support for multiple languages."
   ]
  },
  {
   "cell_type": "markdown",
   "id": "dc1c5211-9845-411b-ba49-21be201c91cf",
   "metadata": {},
   "source": [
    "### When to Use Stemming:\n",
    "- Stemming is useful in *search engines, text mining,* and *information retrieval* where different word forms need to be treated as equivalent.\n",
    "- It’s not always appropriate for tasks where *grammatical accuracy* is important (e.g., generating human-readable content)."
   ]
  },
  {
   "cell_type": "markdown",
   "id": "e5bef1d3-ffc2-4e54-9852-63aa4c58db02",
   "metadata": {},
   "source": [
    "### Stemming vs Lemmatization:\n",
    "- **Stemming:** Reduces words to their base form (even if the result is not a valid word).\n",
    "- **Lemmatization:** Converts words to their dictionary form, ensuring grammatical accuracy (e.g., \"studies\" becomes \"study,\" but \"ran\" becomes \"run\")."
   ]
  },
  {
   "cell_type": "code",
   "execution_count": null,
   "id": "4b87d27a-0a54-428e-b2e4-f2bbd49f447b",
   "metadata": {},
   "outputs": [],
   "source": []
  }
 ],
 "metadata": {
  "kernelspec": {
   "display_name": "Python 3 (ipykernel)",
   "language": "python",
   "name": "python3"
  },
  "language_info": {
   "codemirror_mode": {
    "name": "ipython",
    "version": 3
   },
   "file_extension": ".py",
   "mimetype": "text/x-python",
   "name": "python",
   "nbconvert_exporter": "python",
   "pygments_lexer": "ipython3",
   "version": "3.9.19"
  }
 },
 "nbformat": 4,
 "nbformat_minor": 5
}
