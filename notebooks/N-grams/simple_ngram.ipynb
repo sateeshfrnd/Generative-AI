{
 "cells": [
  {
   "cell_type": "markdown",
   "metadata": {},
   "source": [
    "# N-Gram\n",
    "\n",
    "An N-gram is a contiguous sequence of N words or characters from a given text. It helps capture local word dependencies and partial context in text data."
   ]
  },
  {
   "cell_type": "markdown",
   "metadata": {},
   "source": [
    "Consider two review sentences:\n",
    "\n",
    "- Sentence 1: \"The movie was not good\"\n",
    "- Sentence 2: \"The movie was good\""
   ]
  },
  {
   "cell_type": "code",
   "execution_count": 3,
   "metadata": {},
   "outputs": [],
   "source": [
    "sentences = [\"The movie was not good\", \"The movie was good\"]"
   ]
  },
  {
   "cell_type": "code",
   "execution_count": 4,
   "metadata": {},
   "outputs": [],
   "source": [
    "from sklearn.feature_extraction.text import CountVectorizer"
   ]
  },
  {
   "cell_type": "code",
   "execution_count": 8,
   "metadata": {},
   "outputs": [],
   "source": [
    "def generate_ngram(ngram_range=(1, 1)):\n",
    "    # Initialize CountVectorizer for Ngram\n",
    "    vectorizer = CountVectorizer(ngram_range=ngram_range)\n",
    "\n",
    "    # Fit and transform the sentences\n",
    "    ngrams_matrix = vectorizer.fit_transform(sentences)\n",
    "\n",
    "    # Get the N-gram feature names\n",
    "    feature_names = vectorizer.get_feature_names_out()\n",
    "\n",
    "    # Convert the N-grams to an array\n",
    "    ngrams_array = ngrams_matrix.toarray()\n",
    "\n",
    "    # Display results\n",
    "    print(\"Feature Names (Bigrams):\", feature_names)\n",
    "    print(\"N-gram Matrix:\\n\", ngrams_array)\n"
   ]
  },
  {
   "cell_type": "code",
   "execution_count": 9,
   "metadata": {},
   "outputs": [
    {
     "name": "stdout",
     "output_type": "stream",
     "text": [
      "Feature Names (Bigrams): ['good' 'movie' 'not' 'the' 'was']\n",
      "N-gram Matrix:\n",
      " [[1 1 1 1 1]\n",
      " [1 1 0 1 1]]\n"
     ]
    }
   ],
   "source": [
    "generate_ngram(ngram_range=(1, 1))"
   ]
  },
  {
   "cell_type": "code",
   "execution_count": 10,
   "metadata": {},
   "outputs": [
    {
     "name": "stdout",
     "output_type": "stream",
     "text": [
      "Feature Names (Bigrams): ['good' 'movie' 'movie was' 'not' 'not good' 'the' 'the movie' 'was'\n",
      " 'was good' 'was not']\n",
      "N-gram Matrix:\n",
      " [[1 1 1 1 1 1 1 1 0 1]\n",
      " [1 1 1 0 0 1 1 1 1 0]]\n"
     ]
    }
   ],
   "source": [
    "generate_ngram(ngram_range=(1, 2))"
   ]
  },
  {
   "cell_type": "code",
   "execution_count": 11,
   "metadata": {},
   "outputs": [
    {
     "name": "stdout",
     "output_type": "stream",
     "text": [
      "Feature Names (Bigrams): ['movie was' 'not good' 'the movie' 'was good' 'was not']\n",
      "N-gram Matrix:\n",
      " [[1 1 1 0 1]\n",
      " [1 0 1 1 0]]\n"
     ]
    }
   ],
   "source": [
    "generate_ngram(ngram_range=(2, 2))"
   ]
  },
  {
   "cell_type": "code",
   "execution_count": null,
   "metadata": {},
   "outputs": [],
   "source": [
    "generate_ngram(ngram_range=(3, 3))"
   ]
  }
 ],
 "metadata": {
  "kernelspec": {
   "display_name": "Python 3",
   "language": "python",
   "name": "python3"
  },
  "language_info": {
   "codemirror_mode": {
    "name": "ipython",
    "version": 3
   },
   "file_extension": ".py",
   "mimetype": "text/x-python",
   "name": "python",
   "nbconvert_exporter": "python",
   "pygments_lexer": "ipython3",
   "version": "3.9.20"
  }
 },
 "nbformat": 4,
 "nbformat_minor": 2
}
